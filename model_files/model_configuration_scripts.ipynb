{
 "cells": [
  {
   "cell_type": "code",
   "execution_count": 1,
   "metadata": {},
   "outputs": [],
   "source": [
    "import cobra"
   ]
  },
  {
   "cell_type": "markdown",
   "metadata": {},
   "source": [
    "#### 1) For batch and C-lim chemostats, aerobic"
   ]
  },
  {
   "cell_type": "code",
   "execution_count": null,
   "metadata": {},
   "outputs": [],
   "source": [
    "model = cobra.io.load_json_model('./full_model/iSace1144.json')\n",
    "model.solver = 'cplex'\n",
    "biom_id = 'BIOMASS_AERO_SC_hvd'\n",
    "biom_rxns = [rxn.id for rxn in model.reactions if 'BIOMASS' in rxn.id]\n",
    "\n",
    "# Turn on reactions for aerobic biomass\n",
    "for rxn in biom_rxns:\n",
    "    if rxn != biom_id:\n",
    "        model.reactions.get_by_id(rxn).bounds = (0,0)\n",
    "\n",
    "# Set NGAM\n",
    "model.reactions.ATPM_c.lower_bound = 1\n",
    "\n",
    "# Set up\n",
    "model.objective = dict()\n",
    "model.reactions.get_by_id(biom_id).objective_coefficient = 1\n",
    "model.reactions.get_by_id(biom_id).bounds = (0,1000)\n",
    "model.reactions.EX_glc__D_e.bounds = (-10,1000)\n",
    "model.reactions.EX_o2_e.bounds = (-1000,1000)\n",
    "\n",
    "# Turn OFF reactions and required nutrient uptake for anaerobic biomass\n",
    "model.reactions.compCERANAERO_r.bounds = (0,0)\n",
    "model.reactions.EX_ergst_e.bounds = (0,1000)\n",
    "model.reactions.EX_hdcea_e.bounds = (0,1000)\n",
    "model.reactions.EX_ocdcea_e.bounds = (0,1000)\n",
    "model.reactions.EX_nac_e.bounds = (0,1000)\n",
    "model.reactions.EX_pnto__R_e.bounds = (0,1000)"
   ]
  },
  {
   "cell_type": "markdown",
   "metadata": {},
   "source": [
    "#### 2) For batch, anaerobic"
   ]
  },
  {
   "cell_type": "code",
   "execution_count": null,
   "metadata": {},
   "outputs": [],
   "source": [
    "model = cobra.io.load_json_model('./full_model/iSace1144.json')\n",
    "model.solver = 'cplex'\n",
    "biom_id = 'BIOMASS_BATCHANAERO_SC_hvd'\n",
    "biom_rxns = [rxn.id for rxn in model.reactions if 'BIOMASS' in rxn.id]\n",
    "\n",
    "# Turn on reactions for batch anaerobic biomass\n",
    "for rxn in biom_rxns:\n",
    "    if rxn != biom_id:\n",
    "        model.reactions.get_by_id(rxn).bounds = (0,0)\n",
    "\n",
    "# Set NGAM\n",
    "model.reactions.ATPM_c.lower_bound = 1\n",
    "\n",
    "model.objective = dict()\n",
    "model.reactions.get_by_id(biom_id).objective_coefficient = 1\n",
    "model.reactions.get_by_id(biom_id).bounds = (0,1000)\n",
    "model.reactions.EX_glc__D_e.bounds = (-10,1000)\n",
    "model.reactions.EX_o2_e.bounds = (0,1000)\n",
    "# Turn of DLD3 lactate production activity (supposed to be minor)\n",
    "model.reactions.LDHDf_c.bounds = (0,0)\n",
    "\n",
    "# Turn ON reactions and required nutrient uptake for anaerobic biomass\n",
    "model.reactions.compCERANAERO_r.bounds = (0,1000)\n",
    "model.reactions.EX_ergst_e.bounds = (-1000,1000)\n",
    "model.reactions.EX_hdcea_e.bounds = (-1000,1000)\n",
    "model.reactions.EX_ocdcea_e.bounds = (-1000,1000)\n",
    "model.reactions.EX_nac_e.bounds = (-1000,1000)\n",
    "model.reactions.EX_pnto__R_e.bounds = (-1000,1000)"
   ]
  },
  {
   "cell_type": "markdown",
   "metadata": {},
   "source": [
    "#### 3) For C-lim chemostats, anaerobic"
   ]
  },
  {
   "cell_type": "code",
   "execution_count": null,
   "metadata": {},
   "outputs": [],
   "source": [
    "model = cobra.io.load_json_model('./full_model/iSace1144.json')\n",
    "model.solver = 'cplex'\n",
    "biom_id = 'BIOMASS_CHEMOANAERO_SC_hvd'\n",
    "biom_rxns = [rxn.id for rxn in model.reactions if 'BIOMASS' in rxn.id]\n",
    "\n",
    "# Turn on reactions for batch anaerobic biomass\n",
    "for rxn in biom_rxns:\n",
    "    if rxn != biom_id:\n",
    "        model.reactions.get_by_id(rxn).bounds = (0,0)\n",
    "\n",
    "# Set NGAM\n",
    "model.reactions.ATPM_c.lower_bound = 1\n",
    "\n",
    "model.objective = dict()\n",
    "model.reactions.get_by_id(biom_id).objective_coefficient = 1\n",
    "model.reactions.get_by_id(biom_id).bounds = (0,1000)\n",
    "model.reactions.EX_glc__D_e.bounds = (-10,1000)\n",
    "model.reactions.EX_o2_e.bounds = (0,1000)\n",
    "# Turn of DLD3 lactate production activity (supposed to be minor)\n",
    "model.reactions.LDHDf_c.bounds = (0,0)\n",
    "\n",
    "# Turn ON reactions and required nutrient uptake for anaerobic biomass\n",
    "model.reactions.compCERANAERO_r.bounds = (0,1000)\n",
    "model.reactions.EX_ergst_e.bounds = (-1000,1000)\n",
    "model.reactions.EX_hdcea_e.bounds = (-1000,1000)\n",
    "model.reactions.EX_ocdcea_e.bounds = (-1000,1000)\n",
    "model.reactions.EX_nac_e.bounds = (-1000,1000)\n",
    "model.reactions.EX_pnto__R_e.bounds = (-1000,1000)"
   ]
  },
  {
   "cell_type": "markdown",
   "metadata": {},
   "source": [
    "#### 4) For N-lim chemostats, aerobic"
   ]
  },
  {
   "cell_type": "code",
   "execution_count": null,
   "metadata": {},
   "outputs": [],
   "source": [
    "model = cobra.io.load_json_model('./full_model/iSace1144.json')\n",
    "model.solver = 'cplex'\n",
    "biom_id = 'BIOMASS_STARVEAERO_SC_hvd'\n",
    "biom_rxns = [rxn.id for rxn in model.reactions if 'BIOMASS' in rxn.id]\n",
    "\n",
    "# Turn on reactions for aerobic biomass\n",
    "for rxn in biom_rxns:\n",
    "    if rxn != biom_id:\n",
    "        model.reactions.get_by_id(rxn).bounds = (0,0)\n",
    "\n",
    "# Set NGAM\n",
    "model.reactions.ATPM_c.lower_bound = 3.9\n",
    "\n",
    "model.objective = dict()\n",
    "model.reactions.get_by_id(biom_id).objective_coefficient = 1\n",
    "model.reactions.get_by_id(biom_id).bounds = (0,1000)\n",
    "model.reactions.EX_glc__D_e.bounds = (-10,1000)\n",
    "model.reactions.EX_o2_e.bounds = (-1000,1000)\n",
    "\n",
    "# Turn OFF reactions and required nutrient uptake for anaerobic biomass\n",
    "model.reactions.compCERANAERO_r.bounds = (0,0)\n",
    "model.reactions.EX_ergst_e.bounds = (0,1000)\n",
    "model.reactions.EX_hdcea_e.bounds = (0,1000)\n",
    "model.reactions.EX_ocdcea_e.bounds = (0,1000)\n",
    "model.reactions.EX_nac_e.bounds = (0,1000)\n",
    "model.reactions.EX_pnto__R_e.bounds = (0,1000)"
   ]
  },
  {
   "cell_type": "markdown",
   "metadata": {},
   "source": [
    "#### 5) For N-lim chemostats, anaerobic\n",
    "(This assumes that GAM and NGAM values for N-lim under anaerobic conditions are the same as in N-lim aerobic)"
   ]
  },
  {
   "cell_type": "code",
   "execution_count": null,
   "metadata": {},
   "outputs": [],
   "source": [
    "model = cobra.io.load_json_model('./full_model/iSace1144.json')\n",
    "model.solver = 'cplex'\n",
    "biom_id = 'BIOMASS_STARVEANAERO_SC_hvd'\n",
    "biom_rxns = [rxn.id for rxn in model.reactions if 'BIOMASS' in rxn.id]\n",
    "\n",
    "# Turn on reactions for batch anaerobic biomass\n",
    "for rxn in biom_rxns:\n",
    "    if rxn != biom_id:\n",
    "        model.reactions.get_by_id(rxn).bounds = (0,0)\n",
    "\n",
    "model.objective = dict()\n",
    "model.reactions.get_by_id(biom_id).objective_coefficient = 1\n",
    "model.reactions.get_by_id(biom_id).bounds = (0,1000)\n",
    "model.reactions.EX_glc__D_e.bounds = (-10,1000)\n",
    "model.reactions.EX_o2_e.bounds = (0,1000)\n",
    "# Turn of DLD3 lactate production activity (supposed to be minor)\n",
    "model.reactions.LDHDf_c.bounds = (0,0)\n",
    "\n",
    "# Set NGAM\n",
    "model.reactions.ATPM_c.lower_bound = 3.9\n",
    "\n",
    "# Turn ON reactions and required nutrient uptake for anaerobic biomass\n",
    "model.reactions.compCERANAERO_r.bounds = (0,1000)\n",
    "model.reactions.EX_ergst_e.bounds = (-1000,1000)\n",
    "model.reactions.EX_hdcea_e.bounds = (-1000,1000)\n",
    "model.reactions.EX_ocdcea_e.bounds = (-1000,1000)\n",
    "model.reactions.EX_nac_e.bounds = (-1000,1000)\n",
    "model.reactions.EX_pnto__R_e.bounds = (-1000,1000)"
   ]
  },
  {
   "cell_type": "code",
   "execution_count": null,
   "metadata": {},
   "outputs": [],
   "source": []
  }
 ],
 "metadata": {
  "kernelspec": {
   "display_name": "Python 3",
   "language": "python",
   "name": "python3"
  },
  "language_info": {
   "codemirror_mode": {
    "name": "ipython",
    "version": 3
   },
   "file_extension": ".py",
   "mimetype": "text/x-python",
   "name": "python",
   "nbconvert_exporter": "python",
   "pygments_lexer": "ipython3",
   "version": "3.7.9"
  }
 },
 "nbformat": 4,
 "nbformat_minor": 4
}
